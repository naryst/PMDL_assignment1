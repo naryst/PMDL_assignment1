{
 "cells": [
  {
   "cell_type": "code",
   "execution_count": 1,
   "metadata": {},
   "outputs": [],
   "source": [
    "import os\n",
    "os.environ['CUDA_VISIBLE_DEVICES'] = \"1\""
   ]
  },
  {
   "cell_type": "code",
   "execution_count": 2,
   "metadata": {
    "editable": true,
    "slideshow": {
     "slide_type": ""
    },
    "tags": []
   },
   "outputs": [],
   "source": [
    "import torch\n",
    "import torch.nn as nn\n",
    "from transformers import T5ForConditionalGeneration, T5Tokenizer\n",
    "import datasets\n",
    "from transformers import Trainer, TrainingArguments\n",
    "import transformers\n",
    "import matplotlib.pyplot as plt\n",
    "import wandb"
   ]
  },
  {
   "cell_type": "code",
   "execution_count": 3,
   "metadata": {},
   "outputs": [
    {
     "name": "stdout",
     "output_type": "stream",
     "text": [
      "\u001b[34m\u001b[1mwandb\u001b[0m: Appending key for api.wandb.ai to your netrc file: /root/.netrc\n"
     ]
    }
   ],
   "source": [
    "!wandb login 3a29512b4cab2036fbf6a236a1a929554a707208"
   ]
  },
  {
   "cell_type": "code",
   "execution_count": 4,
   "metadata": {},
   "outputs": [],
   "source": [
    "# load prepared hf dataset from the disk\n",
    "DATA_DIR = \"../data/interim/hf_dataset/\"\n",
    "dataset = datasets.load_from_disk(DATA_DIR)\n",
    "\n",
    "# remove features, which is useless for fine-tuning from the dataset\n",
    "dataset = dataset.remove_columns(\n",
    "    [\"similarity\", \"lenght_diff\", \"trn_tox\", \"ref_tox\", \"__index_level_0__\"]\n",
    ")"
   ]
  },
  {
   "cell_type": "code",
   "execution_count": 5,
   "metadata": {},
   "outputs": [],
   "source": [
    "# load pretrained model (T5 for text perephrasing), which I will finetune\n",
    "checkpoint_name = 'SkolkovoInstitute/t5-paraphrase-paws-msrp-opinosis-paranmt'\n",
    "\n",
    "model = T5ForConditionalGeneration.from_pretrained(checkpoint_name, device_map='auto')\n",
    "tokenizer = T5Tokenizer.from_pretrained(checkpoint_name, legacy=False)"
   ]
  },
  {
   "cell_type": "code",
   "execution_count": 6,
   "metadata": {},
   "outputs": [
    {
     "data": {
      "application/vnd.jupyter.widget-view+json": {
       "model_id": "de045798e99f4c0cb4c30ab43438fe96",
       "version_major": 2,
       "version_minor": 0
      },
      "text/plain": [
       "Map (num_proc=8):   0%|          | 0/548888 [00:00<?, ? examples/s]"
      ]
     },
     "metadata": {},
     "output_type": "display_data"
    },
    {
     "data": {
      "application/vnd.jupyter.widget-view+json": {
       "model_id": "06ec4507aedc4a98a8df75f19247ec8b",
       "version_major": 2,
       "version_minor": 0
      },
      "text/plain": [
       "Map (num_proc=8):   0%|          | 0/28889 [00:00<?, ? examples/s]"
      ]
     },
     "metadata": {},
     "output_type": "display_data"
    },
    {
     "data": {
      "application/vnd.jupyter.widget-view+json": {
       "model_id": "d942c41abb224563b87f80935db5099c",
       "version_major": 2,
       "version_minor": 0
      },
      "text/plain": [
       "Map (num_proc=8):   0%|          | 0/548888 [00:00<?, ? examples/s]"
      ]
     },
     "metadata": {},
     "output_type": "display_data"
    },
    {
     "data": {
      "application/vnd.jupyter.widget-view+json": {
       "model_id": "c42a7c5494bf4edda0c5c94bd0dd4a9b",
       "version_major": 2,
       "version_minor": 0
      },
      "text/plain": [
       "Map (num_proc=8):   0%|          | 0/28889 [00:00<?, ? examples/s]"
      ]
     },
     "metadata": {},
     "output_type": "display_data"
    },
    {
     "data": {
      "text/plain": [
       "DatasetDict({\n",
       "    train: Dataset({\n",
       "        features: ['translation', 'reference', 'input_ids', 'attention_mask', 'labels'],\n",
       "        num_rows: 548888\n",
       "    })\n",
       "    test: Dataset({\n",
       "        features: ['translation', 'reference', 'input_ids', 'attention_mask', 'labels'],\n",
       "        num_rows: 28889\n",
       "    })\n",
       "})"
      ]
     },
     "execution_count": 6,
     "metadata": {},
     "output_type": "execute_result"
    }
   ],
   "source": [
    "# tokenize translation to get true labels for training\n",
    "def make_labels(example):\n",
    "    example['labels'] = tokenizer(example[\"translation\"], return_tensors=\"pt\",\n",
    "                                padding='max_length', truncation=True)['input_ids']\n",
    "    example[\"labels\"][example['labels'] == tokenizer.pad_token_id] = -100\n",
    "    return example\n",
    "\n",
    "# tokenize references to get input ids and attention mask for the model input\n",
    "dataset = dataset.map(lambda x: tokenizer(x['reference'], return_tensors=\"pt\", padding='max_length', truncation=True), num_proc=8)\n",
    "dataset = dataset.map(make_labels, num_proc=8)\n",
    "dataset.set_format('torch')\n",
    "\n",
    "dataset"
   ]
  },
  {
   "cell_type": "code",
   "execution_count": 7,
   "metadata": {},
   "outputs": [
    {
     "data": {
      "application/vnd.jupyter.widget-view+json": {
       "model_id": "50bf9ace13124b03904e5b469ebd2472",
       "version_major": 2,
       "version_minor": 0
      },
      "text/plain": [
       "Map (num_proc=8):   0%|          | 0/548888 [00:00<?, ? examples/s]"
      ]
     },
     "metadata": {},
     "output_type": "display_data"
    },
    {
     "data": {
      "application/vnd.jupyter.widget-view+json": {
       "model_id": "e4f3b55f538c4cf69de09e79d5f8fe0a",
       "version_major": 2,
       "version_minor": 0
      },
      "text/plain": [
       "Map (num_proc=8):   0%|          | 0/28889 [00:00<?, ? examples/s]"
      ]
     },
     "metadata": {},
     "output_type": "display_data"
    }
   ],
   "source": [
    "def squeeze(example):\n",
    "    example['labels'] = torch.squeeze(example['labels'])\n",
    "    example['input_ids'] = torch.squeeze(example['input_ids'])\n",
    "    example['attention_mask'] = torch.squeeze(example['attention_mask'])\n",
    "    return example\n",
    "\n",
    "dataset = dataset.map(squeeze, num_proc=8)"
   ]
  },
  {
   "cell_type": "code",
   "execution_count": 8,
   "metadata": {},
   "outputs": [],
   "source": [
    "train_dataset = dataset['train']\n",
    "val_dataset = dataset['test']"
   ]
  },
  {
   "cell_type": "code",
   "execution_count": 11,
   "metadata": {
    "editable": true,
    "slideshow": {
     "slide_type": ""
    },
    "tags": []
   },
   "outputs": [],
   "source": [
    "data_collator = transformers.DataCollatorForSeq2Seq(tokenizer, model=model)\n",
    "training_args = TrainingArguments(\n",
    "    output_dir='../models/T5_checkpointsV3',   # output directory\n",
    "    overwrite_output_dir=False,\n",
    "    num_train_epochs=3,             # total # of training epochs\n",
    "    per_device_train_batch_size=32,  # batch size per device during training\n",
    "    gradient_accumulation_steps=4,\n",
    "    per_device_eval_batch_size=32,    # batch size for evaluation\n",
    "    warmup_steps=300,               # number of warmup steps for learning rate scheduler\n",
    "    weight_decay=0,                  # strength of weight decay\n",
    "    learning_rate=3e-5,\n",
    "    logging_dir='logs',           # directory for storing logs\n",
    "    logging_steps=100,\n",
    "    eval_steps=1000,\n",
    "    evaluation_strategy='steps',\n",
    "    save_steps=5000,\n",
    "    report_to='wandb',\n",
    "    bf16=True\n",
    ")\n",
    "\n",
    "trainer = Trainer(\n",
    "    model=model,\n",
    "    args=training_args,\n",
    "    train_dataset=train_dataset,\n",
    "    eval_dataset=val_dataset,\n",
    "    data_collator=data_collator,\n",
    "    tokenizer=tokenizer,\n",
    ")"
   ]
  },
  {
   "cell_type": "code",
   "execution_count": null,
   "metadata": {
    "editable": true,
    "slideshow": {
     "slide_type": ""
    },
    "tags": []
   },
   "outputs": [
    {
     "data": {
      "text/html": [
       "\n",
       "    <div>\n",
       "      \n",
       "      <progress value='12098' max='12864' style='width:300px; height:20px; vertical-align: middle;'></progress>\n",
       "      [12098/12864 8:34:37 < 32:35, 0.39 it/s, Epoch 2.82/3]\n",
       "    </div>\n",
       "    <table border=\"1\" class=\"dataframe\">\n",
       "  <thead>\n",
       " <tr style=\"text-align: left;\">\n",
       "      <th>Step</th>\n",
       "      <th>Training Loss</th>\n",
       "      <th>Validation Loss</th>\n",
       "    </tr>\n",
       "  </thead>\n",
       "  <tbody>\n",
       "    <tr>\n",
       "      <td>1000</td>\n",
       "      <td>1.694800</td>\n",
       "      <td>1.587692</td>\n",
       "    </tr>\n",
       "    <tr>\n",
       "      <td>2000</td>\n",
       "      <td>1.664500</td>\n",
       "      <td>1.567106</td>\n",
       "    </tr>\n",
       "    <tr>\n",
       "      <td>3000</td>\n",
       "      <td>1.643900</td>\n",
       "      <td>1.552828</td>\n",
       "    </tr>\n",
       "    <tr>\n",
       "      <td>4000</td>\n",
       "      <td>1.634900</td>\n",
       "      <td>1.542156</td>\n",
       "    </tr>\n",
       "    <tr>\n",
       "      <td>5000</td>\n",
       "      <td>1.615700</td>\n",
       "      <td>1.535217</td>\n",
       "    </tr>\n",
       "    <tr>\n",
       "      <td>6000</td>\n",
       "      <td>1.620600</td>\n",
       "      <td>1.528746</td>\n",
       "    </tr>\n",
       "    <tr>\n",
       "      <td>7000</td>\n",
       "      <td>1.608300</td>\n",
       "      <td>1.523760</td>\n",
       "    </tr>\n",
       "    <tr>\n",
       "      <td>8000</td>\n",
       "      <td>1.605800</td>\n",
       "      <td>1.519435</td>\n",
       "    </tr>\n",
       "    <tr>\n",
       "      <td>9000</td>\n",
       "      <td>1.599800</td>\n",
       "      <td>1.516956</td>\n",
       "    </tr>\n",
       "    <tr>\n",
       "      <td>10000</td>\n",
       "      <td>1.586100</td>\n",
       "      <td>1.514449</td>\n",
       "    </tr>\n",
       "    <tr>\n",
       "      <td>11000</td>\n",
       "      <td>1.596700</td>\n",
       "      <td>1.512606</td>\n",
       "    </tr>\n",
       "    <tr>\n",
       "      <td>12000</td>\n",
       "      <td>1.579100</td>\n",
       "      <td>1.512110</td>\n",
       "    </tr>\n",
       "  </tbody>\n",
       "</table><p>"
      ],
      "text/plain": [
       "<IPython.core.display.HTML object>"
      ]
     },
     "metadata": {},
     "output_type": "display_data"
    }
   ],
   "source": [
    "trainer.train()"
   ]
  },
  {
   "cell_type": "code",
   "execution_count": null,
   "metadata": {},
   "outputs": [],
   "source": [
    "wandb.finish()"
   ]
  },
  {
   "cell_type": "code",
   "execution_count": null,
   "metadata": {},
   "outputs": [],
   "source": [
    "trainer.save_model('../models/final_checkpointV3')"
   ]
  },
  {
   "cell_type": "code",
   "execution_count": null,
   "metadata": {},
   "outputs": [],
   "source": [
    "log_history = trainer.state.log_history"
   ]
  },
  {
   "cell_type": "code",
   "execution_count": null,
   "metadata": {},
   "outputs": [],
   "source": [
    "log_history = log_history[:-1]"
   ]
  },
  {
   "cell_type": "code",
   "execution_count": null,
   "metadata": {},
   "outputs": [],
   "source": [
    "loss_history = []\n",
    "eval_loss = []\n",
    "for log in log_history:\n",
    "    if 'loss' in log.keys():\n",
    "        loss_history.append(log['loss'])\n",
    "    if 'eval_loss' in log.keys():\n",
    "        eval_loss.append(log['eval_loss'])"
   ]
  },
  {
   "cell_type": "code",
   "execution_count": null,
   "metadata": {
    "editable": true,
    "slideshow": {
     "slide_type": ""
    },
    "tags": []
   },
   "outputs": [],
   "source": [
    "figure = plt.figure(figsize=(15,10))\n",
    "plt.plot(loss_history, linewidth=2)\n",
    "plt.xlabel('log point', fontsize=14)\n",
    "plt.ylabel('loss',  fontsize=14)\n",
    "plt.title('Loss history T5 training', fontsize=14)\n",
    "plt.show()"
   ]
  },
  {
   "cell_type": "code",
   "execution_count": null,
   "metadata": {
    "editable": true,
    "slideshow": {
     "slide_type": ""
    },
    "tags": []
   },
   "outputs": [],
   "source": [
    "figure = plt.figure(figsize=(15,10))\n",
    "plt.plot(eval_loss, linewidth=2)\n",
    "plt.xlabel('log point', fontsize=14)\n",
    "plt.ylabel('eval loss',  fontsize=14)\n",
    "plt.title('Eval Loss history T5 training', fontsize=14)\n",
    "plt.show()"
   ]
  }
 ],
 "metadata": {
  "kernelspec": {
   "display_name": "commit-generation",
   "language": "python",
   "name": "commit-generation"
  },
  "language_info": {
   "codemirror_mode": {
    "name": "ipython",
    "version": 3
   },
   "file_extension": ".py",
   "mimetype": "text/x-python",
   "name": "python",
   "nbconvert_exporter": "python",
   "pygments_lexer": "ipython3",
   "version": "3.11.6"
  }
 },
 "nbformat": 4,
 "nbformat_minor": 4
}
