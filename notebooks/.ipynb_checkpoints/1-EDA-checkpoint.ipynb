{
 "cells": [
  {
   "cell_type": "code",
   "execution_count": 1,
   "metadata": {},
   "outputs": [],
   "source": [
    "import pandas as pd\n",
    "import numpy as np\n",
    "import matplotlib.pyplot as plt"
   ]
  },
  {
   "cell_type": "code",
   "execution_count": 2,
   "metadata": {},
   "outputs": [],
   "source": [
    "RAW_DATA_DIR = \"../data/raw/\""
   ]
  },
  {
   "cell_type": "code",
   "execution_count": 3,
   "metadata": {},
   "outputs": [],
   "source": [
    "dataset = pd.read_csv(RAW_DATA_DIR + 'filtered.tsv', sep='\\t', index_col=0)"
   ]
  },
  {
   "cell_type": "code",
   "execution_count": 4,
   "metadata": {},
   "outputs": [
    {
     "data": {
      "text/html": [
       "<div>\n",
       "<style scoped>\n",
       "    .dataframe tbody tr th:only-of-type {\n",
       "        vertical-align: middle;\n",
       "    }\n",
       "\n",
       "    .dataframe tbody tr th {\n",
       "        vertical-align: top;\n",
       "    }\n",
       "\n",
       "    .dataframe thead th {\n",
       "        text-align: right;\n",
       "    }\n",
       "</style>\n",
       "<table border=\"1\" class=\"dataframe\">\n",
       "  <thead>\n",
       "    <tr style=\"text-align: right;\">\n",
       "      <th></th>\n",
       "      <th>reference</th>\n",
       "      <th>translation</th>\n",
       "      <th>similarity</th>\n",
       "      <th>lenght_diff</th>\n",
       "      <th>ref_tox</th>\n",
       "      <th>trn_tox</th>\n",
       "    </tr>\n",
       "  </thead>\n",
       "  <tbody>\n",
       "    <tr>\n",
       "      <th>577772</th>\n",
       "      <td>You didn't know that Estelle had stolen some f...</td>\n",
       "      <td>you didn't know that Estelle stole your fish f...</td>\n",
       "      <td>0.870322</td>\n",
       "      <td>0.030769</td>\n",
       "      <td>0.000121</td>\n",
       "      <td>0.949143</td>\n",
       "    </tr>\n",
       "    <tr>\n",
       "      <th>577773</th>\n",
       "      <td>It'il suck the life out of you!</td>\n",
       "      <td>you'd be sucked out of your life!</td>\n",
       "      <td>0.722897</td>\n",
       "      <td>0.058824</td>\n",
       "      <td>0.996124</td>\n",
       "      <td>0.215794</td>\n",
       "    </tr>\n",
       "    <tr>\n",
       "      <th>577774</th>\n",
       "      <td>I can't fuckin' take that, bruv.</td>\n",
       "      <td>I really can't take this.</td>\n",
       "      <td>0.617511</td>\n",
       "      <td>0.212121</td>\n",
       "      <td>0.984538</td>\n",
       "      <td>0.000049</td>\n",
       "    </tr>\n",
       "    <tr>\n",
       "      <th>577775</th>\n",
       "      <td>They called me a fucking hero. The truth is I ...</td>\n",
       "      <td>they said I was a hero, but I didn't care.</td>\n",
       "      <td>0.679613</td>\n",
       "      <td>0.358209</td>\n",
       "      <td>0.991945</td>\n",
       "      <td>0.000124</td>\n",
       "    </tr>\n",
       "    <tr>\n",
       "      <th>577776</th>\n",
       "      <td>I did not screw him.</td>\n",
       "      <td>I didn't fuck him.</td>\n",
       "      <td>0.868475</td>\n",
       "      <td>0.095238</td>\n",
       "      <td>0.009480</td>\n",
       "      <td>0.994174</td>\n",
       "    </tr>\n",
       "  </tbody>\n",
       "</table>\n",
       "</div>"
      ],
      "text/plain": [
       "                                                reference  \\\n",
       "577772  You didn't know that Estelle had stolen some f...   \n",
       "577773                    It'il suck the life out of you!   \n",
       "577774                   I can't fuckin' take that, bruv.   \n",
       "577775  They called me a fucking hero. The truth is I ...   \n",
       "577776                               I did not screw him.   \n",
       "\n",
       "                                              translation  similarity  \\\n",
       "577772  you didn't know that Estelle stole your fish f...    0.870322   \n",
       "577773                  you'd be sucked out of your life!    0.722897   \n",
       "577774                          I really can't take this.    0.617511   \n",
       "577775         they said I was a hero, but I didn't care.    0.679613   \n",
       "577776                                 I didn't fuck him.    0.868475   \n",
       "\n",
       "        lenght_diff   ref_tox   trn_tox  \n",
       "577772     0.030769  0.000121  0.949143  \n",
       "577773     0.058824  0.996124  0.215794  \n",
       "577774     0.212121  0.984538  0.000049  \n",
       "577775     0.358209  0.991945  0.000124  \n",
       "577776     0.095238  0.009480  0.994174  "
      ]
     },
     "execution_count": 4,
     "metadata": {},
     "output_type": "execute_result"
    }
   ],
   "source": [
    "dataset.tail()"
   ]
  },
  {
   "cell_type": "code",
   "execution_count": 5,
   "metadata": {},
   "outputs": [
    {
     "name": "stdout",
     "output_type": "stream",
     "text": [
      "Mean simmilarity of the text paris - 0.7584692006374207\n",
      "Mean length difference of the text paris - 0.15765231074368755\n",
      "Mean reference toxisity - 0.5413717990275281\n",
      "Mean translation toxisity - 0.4344898352213311\n"
     ]
    }
   ],
   "source": [
    "print(f\"Mean simmilarity of the text paris - {dataset['similarity'].mean()}\")\n",
    "print(f\"Mean length difference of the text paris - {dataset['lenght_diff'].mean()}\")\n",
    "print(f\"Mean reference toxisity - {dataset['ref_tox'].mean()}\")\n",
    "print(f\"Mean translation toxisity - {dataset['trn_tox'].mean()}\")"
   ]
  },
  {
   "cell_type": "code",
   "execution_count": 6,
   "metadata": {},
   "outputs": [
    {
     "data": {
      "image/png": "[encoded data removed]",
      "text/plain": [
       "<Figure size 1500x500 with 2 Axes>"
      ]
     },
     "metadata": {},
     "output_type": "display_data"
    }
   ],
   "source": [
    "dataset['tox_diff'] = dataset.ref_tox - dataset.trn_tox\n",
    "dataset['tox_diff_abs'] = np.abs(dataset.ref_tox - dataset.trn_tox)\n",
    "\n",
    "fig, axes = plt.subplots(1, 2, figsize=(15,5))\n",
    "axes[0].hist(dataset['tox_diff'])\n",
    "axes[0].grid()\n",
    "axes[0].set_xlabel('Toxisity diff')\n",
    "axes[0].set_title('Distribution of Toxisity diff \\n between reference and translation')\n",
    "axes[1].hist(dataset['tox_diff_abs'])\n",
    "axes[1].grid()\n",
    "axes[1].set_xlabel('$\\|$Toxisity diff$\\|$')\n",
    "axes[1].set_title('Distribution of $\\|$Toxisity diff$\\|$ \\n between reference and translation')\n",
    "plt.show()"
   ]
  },
  {
   "cell_type": "code",
   "execution_count": 7,
   "metadata": {},
   "outputs": [],
   "source": [
    "dataset['reference_words'] = dataset.apply(lambda x: len(x['reference'].split()), axis=1)\n",
    "dataset['translation_words'] = dataset.apply(lambda x: len(x['translation'].split()), axis=1)"
   ]
  },
  {
   "cell_type": "code",
   "execution_count": 8,
   "metadata": {},
   "outputs": [
    {
     "data": {
      "image/png": "[encoded data removed]",
      "text/plain": [
       "<Figure size 1500x500 with 2 Axes>"
      ]
     },
     "metadata": {},
     "output_type": "display_data"
    }
   ],
   "source": [
    "fig, axes = plt.subplots(1, 2, figsize=(15, 5))\n",
    "axes[0].hist(dataset['reference_words'])\n",
    "axes[0].set_yscale('log')\n",
    "axes[0].grid()\n",
    "axes[0].set_xlabel('number of words')\n",
    "axes[0].set_title('Reference length distribution')\n",
    "\n",
    "axes[1].hist(dataset['translation_words'])\n",
    "axes[1].set_yscale('log')\n",
    "axes[1].grid()\n",
    "axes[1].set_xlabel('number of words')\n",
    "axes[1].set_title('Translation length distribution')\n",
    "plt.show()"
   ]
  },
  {
   "cell_type": "markdown",
   "metadata": {},
   "source": [
    "### Split initial dataset into detoxification and toxification samples"
   ]
  },
  {
   "cell_type": "code",
   "execution_count": 9,
   "metadata": {},
   "outputs": [],
   "source": [
    "detoxification_samples = dataset[dataset['ref_tox'] >= dataset['trn_tox']]\n",
    "toxification_samples = dataset[dataset['ref_tox'] < dataset['trn_tox']]"
   ]
  },
  {
   "cell_type": "code",
   "execution_count": 10,
   "metadata": {},
   "outputs": [
    {
     "name": "stdout",
     "output_type": "stream",
     "text": [
      "55.236% of samples in the initial dataset is text detoxification\n",
      "44.764% of samples in the initial dataset is text toxification\n"
     ]
    }
   ],
   "source": [
    "print(f'{len(detoxification_samples) / len(dataset)*100:.3f}% of samples in the initial dataset is text detoxification')\n",
    "print(f'{len(toxification_samples) / len(dataset)*100:.3f}% of samples in the initial dataset is text toxification')"
   ]
  },
  {
   "cell_type": "markdown",
   "metadata": {},
   "source": [
    "### Analysing datasets for different tasks separately"
   ]
  },
  {
   "cell_type": "code",
   "execution_count": 11,
   "metadata": {},
   "outputs": [
    {
     "name": "stdout",
     "output_type": "stream",
     "text": [
      "Mean reference toxisity - 0.9447821251298479\n",
      "Mean translation toxisity - 0.029131700547454394\n"
     ]
    }
   ],
   "source": [
    "print(f\"Mean reference toxisity - {detoxification_samples['ref_tox'].mean()}\")\n",
    "print(f\"Mean translation toxisity - {detoxification_samples['trn_tox'].mean()}\")"
   ]
  },
  {
   "cell_type": "code",
   "execution_count": 12,
   "metadata": {},
   "outputs": [
    {
     "name": "stdout",
     "output_type": "stream",
     "text": [
      "Mean reference toxisity - 0.043584653850167875\n",
      "Mean translation toxisity - 0.9346804738282111\n"
     ]
    }
   ],
   "source": [
    "print(f\"Mean reference toxisity - {toxification_samples['ref_tox'].mean()}\")\n",
    "print(f\"Mean translation toxisity - {toxification_samples['trn_tox'].mean()}\")"
   ]
  },
  {
   "cell_type": "code",
   "execution_count": 13,
   "metadata": {},
   "outputs": [
    {
     "name": "stdout",
     "output_type": "stream",
     "text": [
      "tox2detox Mean simmilarity: 0.7570873176378564\n",
      "detox2tox Mean simmilarity: 0.7601743716477133\n"
     ]
    }
   ],
   "source": [
    "print(f'tox2detox Mean simmilarity: {detoxification_samples[\"similarity\"].mean()}')\n",
    "print(f'detox2tox Mean simmilarity: {toxification_samples[\"similarity\"].mean()}')"
   ]
  },
  {
   "cell_type": "code",
   "execution_count": 15,
   "metadata": {},
   "outputs": [],
   "source": [
    "SAVE_PATH = '../data/interim/'\n",
    "toxification_samples.to_csv(SAVE_PATH + 'toxification_data.csv')\n",
    "detoxification_samples.to_csv(SAVE_PATH + 'detoxification_data.csv')"
   ]
  },
  {
   "cell_type": "markdown",
   "metadata": {},
   "source": [
    "### Mergings detoxification and toxification translations into 1 dataste"
   ]
  },
  {
   "cell_type": "code",
   "execution_count": 16,
   "metadata": {},
   "outputs": [],
   "source": [
    "# rename DataFrame features to make it suitable to detoxication\n",
    "toxification_samples.columns = [\n",
    "    \"translation\",\n",
    "    \"reference\",\n",
    "    \"similarity\",\n",
    "    \"lenght_diff\",\n",
    "    \"trn_tox\",\n",
    "    \"ref_tox\",\n",
    "    \"tox_diff\",\n",
    "    \"tox_diff_abs\",\n",
    "    \"translation_words\",\n",
    "    \"reference_words\",\n",
    "]"
   ]
  },
  {
   "cell_type": "code",
   "execution_count": 17,
   "metadata": {},
   "outputs": [],
   "source": [
    "import datasets\n",
    "\n",
    "tox_dataset = datasets.Dataset.from_pandas(toxification_samples)\n",
    "detox_dataset = datasets.Dataset.from_pandas(detoxification_samples)"
   ]
  },
  {
   "cell_type": "code",
   "execution_count": 18,
   "metadata": {},
   "outputs": [],
   "source": [
    "merged_dataset = datasets.concatenate_datasets([tox_dataset, detox_dataset])"
   ]
  },
  {
   "cell_type": "code",
   "execution_count": 19,
   "metadata": {},
   "outputs": [
    {
     "data": {
      "text/plain": [
       "(0.94026024110816, 0.03560139314069938)"
      ]
     },
     "execution_count": 19,
     "metadata": {},
     "output_type": "execute_result"
    }
   ],
   "source": [
    "np.mean(merged_dataset['ref_tox']), np.mean(merged_dataset['trn_tox'])"
   ]
  },
  {
   "cell_type": "code",
   "execution_count": 22,
   "metadata": {},
   "outputs": [
    {
     "data": {
      "application/vnd.jupyter.widget-view+json": {
       "model_id": "26180f6bb75f4a6cacdecc8c6946d18d",
       "version_major": 2,
       "version_minor": 0
      },
      "text/plain": [
       "VBox(children=(HTML(value='<center> <img\\nsrc=https://huggingface.co/front/assets/huggingface_logo-noborder.sv…"
      ]
     },
     "metadata": {},
     "output_type": "display_data"
    }
   ],
   "source": [
    "import huggingface_hub\n",
    "huggingface_hub.notebook_login()"
   ]
  },
  {
   "cell_type": "code",
   "execution_count": 23,
   "metadata": {},
   "outputs": [
    {
     "data": {
      "application/vnd.jupyter.widget-view+json": {
       "model_id": "c8ccdbe717a64310b856e76e9ea64733",
       "version_major": 2,
       "version_minor": 0
      },
      "text/plain": [
       "Pushing dataset shards to the dataset hub:   0%|          | 0/1 [00:00<?, ?it/s]"
      ]
     },
     "metadata": {},
     "output_type": "display_data"
    }
   ],
   "source": [
    "merged_dataset.push_to_hub('narySt/text_detoxification_dataset')"
   ]
  },
  {
   "cell_type": "markdown",
   "metadata": {},
   "source": [
    "### Exploring an existing solution for the text detoxification task"
   ]
  },
  {
   "cell_type": "code",
   "execution_count": 24,
   "metadata": {},
   "outputs": [],
   "source": [
    "# Load model directly\n",
    "from transformers import AutoTokenizer, AutoModelForSeq2SeqLM\n",
    "import torch\n",
    "\n",
    "tokenizer = AutoTokenizer.from_pretrained(\"s-nlp/t5-paranmt-detox\")\n",
    "model = AutoModelForSeq2SeqLM.from_pretrained(\"s-nlp/t5-paranmt-detox\", device_map='auto')\n",
    "device = 'cuda' if torch.cuda.is_available() else 'cpu'"
   ]
  },
  {
   "cell_type": "code",
   "execution_count": 25,
   "metadata": {},
   "outputs": [
    {
     "name": "stdout",
     "output_type": "stream",
     "text": [
      "the Trump administration's internal policy is nonsense.\n",
      "the internal policy of Donald Trump is nonsense.\n",
      "the internal policy of President Trump is nonsense.\n",
      "the Trump administration's internal policy is crazy.\n",
      "the president's internal policy is nonsense.\n",
      "the internal policy of Mr. Trump is nonsense.\n",
      "the Trump administration's internal policy is stupid.\n",
      "the internal policy of Trump is nonsense.\n",
      "the Trump administration's internal policy is bad.\n",
      "the Trump internal policy is nonsense.\n"
     ]
    }
   ],
   "source": [
    "inputs = tokenizer('The internal policy of the fucking Trump is stupid.', return_tensors='pt')\n",
    "inputs = {k: v.to(device) for k, v in inputs.items()}\n",
    "for t in model.generate(**inputs, num_return_sequences=10, do_sample=False, num_beams=10, max_new_tokens=50):\n",
    "    print(tokenizer.decode(t, skip_special_tokens=True))"
   ]
  }
 ],
 "metadata": {
  "kernelspec": {
   "display_name": "commit-generation",
   "language": "python",
   "name": "python3"
  },
  "language_info": {
   "codemirror_mode": {
    "name": "ipython",
    "version": 3
   },
   "file_extension": ".py",
   "mimetype": "text/x-python",
   "name": "python",
   "nbconvert_exporter": "python",
   "pygments_lexer": "ipython3",
   "version": "3.10.13"
  }
 },
 "nbformat": 4,
 "nbformat_minor": 2
}
