{
 "cells": [
  {
   "cell_type": "code",
   "execution_count": 1,
   "id": "ac1129e3-1aea-480a-b4e8-53a7836dc6fa",
   "metadata": {
    "editable": true,
    "slideshow": {
     "slide_type": ""
    },
    "tags": []
   },
   "outputs": [],
   "source": [
    "import pandas as pd\n",
    "import numpy as np"
   ]
  },
  {
   "cell_type": "code",
   "execution_count": 10,
   "id": "959c6db0-a461-49fa-895c-400bfc4986c4",
   "metadata": {},
   "outputs": [],
   "source": [
    "bart_results = pd.read_csv('test_set_results/BART_paraphrasing_res.csv')\n",
    "t5V2_results = pd.read_csv('test_set_results/T5_paraphrased_resV2.csv')\n",
    "t5V1_results = pd.read_csv('test_set_results/T5_paraphrased_res.csv')\n",
    "masked_results = pd.read_csv('test_set_results/word_masking_res.csv')"
   ]
  },
  {
   "cell_type": "markdown",
   "id": "a1d62735-d002-470f-a7bb-a21e7435ad01",
   "metadata": {},
   "source": [
    "### Count Joint metric\n",
    "it's counted as (1 - toxicity_score) * simmilarity * fluency"
   ]
  },
  {
   "cell_type": "code",
   "execution_count": 14,
   "id": "d028b19e-6170-47b2-a4a8-a5f5ee2eedc2",
   "metadata": {},
   "outputs": [],
   "source": [
    "bart_results['J'] = (1 - bart_results['resulting_toxicity']) * bart_results['reference2masked_sim'] * bart_results['Fluency_score']\n",
    "masked_results['J'] = (1 - masked_results['resulting_toxicity']) * masked_results['reference2masked_sim'] * masked_results['Fluency_scores']\n",
    "t5V1_results['J'] = (1 - t5V1_results['resulting_toxicity']) * t5V1_results['reference2paraphrased_sim'] * t5V1_results['Fluency_scores']\n",
    "t5V2_results['J'] = (1 - t5V2_results['resulting_toxicity']) * t5V2_results['reference2masked_sim'] * t5V2_results['Fluency_scores']"
   ]
  },
  {
   "cell_type": "markdown",
   "id": "f4736658-f2a1-454e-8ea0-58ab2afaf232",
   "metadata": {},
   "source": [
    "### Comparing Joint metric among 3 methods"
   ]
  },
  {
   "cell_type": "code",
   "execution_count": 16,
   "id": "003a9d16-4e89-4cbf-a04a-88ea0c0c8cf6",
   "metadata": {},
   "outputs": [],
   "source": [
    "j1 = bart_results['J'].mean()\n",
    "j2 = masked_results['J'].mean()\n",
    "j3 = t5V1_results['J'].mean()\n",
    "j4 = t5V2_results['J'].mean()"
   ]
  },
  {
   "cell_type": "code",
   "execution_count": 22,
   "id": "dd31249c-0308-4ca8-b4c6-bc5e686426bd",
   "metadata": {
    "editable": true,
    "scrolled": true,
    "slideshow": {
     "slide_type": ""
    },
    "tags": []
   },
   "outputs": [
    {
     "name": "stdout",
     "output_type": "stream",
     "text": [
      "pretrained BART results: tox - 0.077, sim - 0.851, fluency - 0.726, J - 0.5644548913585631\n",
      "fintuned T5_V1 results: tox - 0.280, sim - 0.830, fluency - 0.788, J - 0.46843638177436375\n",
      "fintuned T5_V2 results: tox - 0.280, sim - 0.817, fluency - 0.796, J - 0.481761284144999\n",
      "Words masking results: tox - 0.244, sim - 0.874, fluency - 0.643, J - 0.41140514581595666\n"
     ]
    }
   ],
   "source": [
    "bart_tox = bart_results['resulting_toxicity'].mean()\n",
    "mask_tox = masked_results['resulting_toxicity'].mean()\n",
    "t5v1_tox = t5V1_results['resulting_toxicity'].mean()\n",
    "t5v2_tox = t5V1_results['resulting_toxicity'].mean()\n",
    "\n",
    "bart_sim = bart_results['reference2masked_sim'].mean()\n",
    "mask_sim = masked_results['reference2masked_sim'].mean()\n",
    "t5v1_sim = t5V1_results['reference2paraphrased_sim'].mean()\n",
    "t5v2_sim = t5V2_results['reference2masked_sim'].mean()\n",
    "\n",
    "bart_f = bart_results['Fluency_score'].mean()\n",
    "mask_f = masked_results['Fluency_scores'].mean()\n",
    "t5v1_f = t5V1_results['Fluency_scores'].mean()\n",
    "t5v2_f = t5V2_results['Fluency_scores'].mean()\n",
    "\n",
    "print(f\"pretrained BART results: tox - {bart_tox:.3f}, sim - {bart_sim:.3f}, fluency - {bart_f:.3f}, J - {j1}\")\n",
    "print(f\"fintuned T5_V1 results: tox - {t5v1_tox:.3f}, sim - {t5v1_sim:.3f}, fluency - {t5v1_f:.3f}, J - {j3}\")\n",
    "print(f\"fintuned T5_V2 results: tox - {t5v2_tox:.3f}, sim - {t5v2_sim:.3f}, fluency - {t5v2_f:.3f}, J - {j4}\")\n",
    "print(f\"Words masking results: tox - {mask_tox:.3f}, sim - {mask_sim:.3f}, fluency - {mask_f:.3f}, J - {j2}\")"
   ]
  }
 ],
 "metadata": {
  "kernelspec": {
   "display_name": "commit-generation",
   "language": "python",
   "name": "commit-generation"
  },
  "language_info": {
   "codemirror_mode": {
    "name": "ipython",
    "version": 3
   },
   "file_extension": ".py",
   "mimetype": "text/x-python",
   "name": "python",
   "nbconvert_exporter": "python",
   "pygments_lexer": "ipython3",
   "version": "3.11.6"
  }
 },
 "nbformat": 4,
 "nbformat_minor": 5
}
